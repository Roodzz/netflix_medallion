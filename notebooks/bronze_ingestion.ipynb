{
 "cells": [
  {
   "cell_type": "code",
   "execution_count": 18,
   "metadata": {},
   "outputs": [],
   "source": [
    "import pandas as pd\n",
    "import os\n",
    "\n",
    "input_path = r'C:\\Users\\guilh\\Desktop\\medallion\\datasets\\\\'\n",
    "bronze_path = r'C:\\Users\\guilh\\Desktop\\medallion\\data\\bronze\\\\'"
   ]
  },
  {
   "cell_type": "code",
   "execution_count": 19,
   "metadata": {},
   "outputs": [],
   "source": [
    "#Criando o dir bronze, caso não exista\n",
    "os.makedirs(bronze_path, exist_ok=True)\n",
    "\n",
    "#ler base\n",
    "df = pd.read_csv(f'{input_path}netflix_titles_nov_2019.csv', sep=',')"
   ]
  },
  {
   "cell_type": "code",
   "execution_count": 20,
   "metadata": {},
   "outputs": [
    {
     "name": "stdout",
     "output_type": "stream",
     "text": [
      "Quantidade de linhas: 5837\n",
      "Quantidade de colunas: 12\n",
      "show_id            0\n",
      "title              0\n",
      "director        1901\n",
      "cast             556\n",
      "country          427\n",
      "date_added       642\n",
      "release_year       0\n",
      "rating            10\n",
      "duration           0\n",
      "listed_in          0\n",
      "description        0\n",
      "type               0\n",
      "dtype: int64\n"
     ]
    }
   ],
   "source": [
    "#tamanho df\n",
    "print(f\"Quantidade de linhas: {df.shape[0]}\")\n",
    "print(f\"Quantidade de colunas: {df.shape[1]}\")\n",
    "\n",
    "#colunas linhas nulas\n",
    "print(df.isnull().sum())"
   ]
  },
  {
   "cell_type": "code",
   "execution_count": 21,
   "metadata": {},
   "outputs": [
    {
     "name": "stdout",
     "output_type": "stream",
     "text": [
      "Arquivo salvo em C:\\Users\\guilh\\Desktop\\medallion\\data\\bronze\\\\\n"
     ]
    }
   ],
   "source": [
    "df.to_csv(f'{bronze_path}netflix_titles_nov_2019_bronze.csv', index=False)\n",
    "\n",
    "print(f'Arquivo salvo em {bronze_path}')"
   ]
  }
 ],
 "metadata": {
  "kernelspec": {
   "display_name": "Python 3",
   "language": "python",
   "name": "python3"
  },
  "language_info": {
   "codemirror_mode": {
    "name": "ipython",
    "version": 3
   },
   "file_extension": ".py",
   "mimetype": "text/x-python",
   "name": "python",
   "nbconvert_exporter": "python",
   "pygments_lexer": "ipython3",
   "version": "3.13.3"
  }
 },
 "nbformat": 4,
 "nbformat_minor": 2
}
