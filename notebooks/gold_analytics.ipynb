{
 "cells": [
  {
   "cell_type": "code",
   "execution_count": 6,
   "metadata": {},
   "outputs": [],
   "source": [
    "import pandas as pd\n",
    "import os\n",
    "\n",
    "silver_path = r'C:\\Users\\guilh\\Desktop\\medallion\\data\\silver\\\\'\n",
    "gold_path = r'C:\\Users\\guilh\\Desktop\\medallion\\data\\gold\\\\'\n",
    "\n",
    "def extrair_duracao(x):\n",
    "    if 'min' in str(x):\n",
    "        return int(x.split(' ')[0])\n",
    "    elif 'Season' in str(x):\n",
    "        return int(x.split(' ')[0])\n",
    "    else:\n",
    "        return -1  # caso estranho\n",
    "\n",
    "\n",
    "df = pd.read_csv(f'{silver_path}netflix_titles_nov_2019_silver.csv', sep=',')"
   ]
  },
  {
   "cell_type": "code",
   "execution_count": 7,
   "metadata": {},
   "outputs": [],
   "source": [
    "df.columns = df.columns.str.lower().str.strip().str.replace(' ', '_')\n",
    "\n",
    "df['duration_int'] = df['duration'].apply(extrair_duracao)\n",
    "\n",
    "# Identificar se é filme ou série baseado na duração\n",
    "df['duration_type'] = df['duration'].apply(lambda x: 'Season' if 'Season' in str(x) else 'Minutes')"
   ]
  },
  {
   "cell_type": "code",
   "execution_count": 8,
   "metadata": {},
   "outputs": [],
   "source": [
    "conteudo_por_ano = df.groupby(['date_added_year', 'type']).size().reset_index(name='quantidade')\n",
    "\n",
    "top_paises = df['country'].value_counts().head(10).reset_index(name='quantidade')\n",
    "top_paises.columns = ['country', 'quantidade']"
   ]
  },
  {
   "cell_type": "code",
   "execution_count": 11,
   "metadata": {},
   "outputs": [],
   "source": [
    "df.to_parquet(f'{gold_path}netflix_catalogo_final.parquet', index=False)\n",
    "conteudo_por_ano.to_csv(f'{gold_path}conteudo_por_ano.csv', index=False)\n",
    "top_paises.to_csv(f'{gold_path}top_paises.csv', index=False)"
   ]
  }
 ],
 "metadata": {
  "kernelspec": {
   "display_name": "Python 3",
   "language": "python",
   "name": "python3"
  },
  "language_info": {
   "codemirror_mode": {
    "name": "ipython",
    "version": 3
   },
   "file_extension": ".py",
   "mimetype": "text/x-python",
   "name": "python",
   "nbconvert_exporter": "python",
   "pygments_lexer": "ipython3",
   "version": "3.13.3"
  }
 },
 "nbformat": 4,
 "nbformat_minor": 2
}
