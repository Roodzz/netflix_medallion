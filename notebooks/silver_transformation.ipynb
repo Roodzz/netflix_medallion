{
 "cells": [
  {
   "cell_type": "code",
   "execution_count": 41,
   "metadata": {},
   "outputs": [],
   "source": [
    "import pandas as pd\n",
    "import os\n",
    "\n",
    "bronze_path = r'C:\\Users\\guilh\\Desktop\\medallion\\data\\bronze\\\\'\n",
    "silver_path = r'C:\\Users\\guilh\\Desktop\\medallion\\data\\silver\\\\'\n",
    "\n",
    "def tratar_datas(df, coluna):\n",
    "    df[coluna] = pd.to_datetime(df[coluna], errors='coerce')\n",
    "    df[coluna] = df[coluna].fillna(pd.Timestamp('1900-01-01'))\n",
    "    df[f'{coluna}_year'] = df[coluna].dt.year\n",
    "    return df\n",
    "\n",
    "\n",
    "df = pd.read_csv(f'{bronze_path}netflix_titles_nov_2019_bronze.csv', sep=',')"
   ]
  },
  {
   "cell_type": "code",
   "execution_count": 42,
   "metadata": {},
   "outputs": [],
   "source": [
    "#Tratando valores nulos\n",
    "\n",
    "# df['director'] = df['director'].fillna('diretor desconhecido')\n",
    "# df['country'] = df['country'].fillna('país desconhecido')\n",
    "# df['cast'] = df['cast'].fillna('eleco desconhecido')\n",
    "\n",
    "#🔥 YOO, THIS IS FIRE 🔥\n",
    "\n",
    "for col in df.columns:\n",
    "    if df[col].isnull().any():\n",
    "        if df[col].dtype == 'object':\n",
    "            # Tratamento especial se a coluna for 'date_added'\n",
    "            if col == 'date_added':\n",
    "                df = tratar_datas(df, 'date_added')\n",
    "            else:\n",
    "                df[col] = df[col].fillna(f\"{col} desconhecido\")\n",
    "        else:\n",
    "            df[col] = df[col].fillna(-1)"
   ]
  },
  {
   "cell_type": "code",
   "execution_count": 43,
   "metadata": {},
   "outputs": [],
   "source": [
    "#trantando strings\n",
    "\n",
    "for col in ['country', 'title', 'cast', 'director']:\n",
    "    df[col] = df[col].str.strip()\n",
    "\n",
    "for col in ['listed_in', 'description']:\n",
    "    df[col] = df[col].str.lower()"
   ]
  },
  {
   "cell_type": "code",
   "execution_count": 44,
   "metadata": {},
   "outputs": [],
   "source": [
    "df = df.drop_duplicates()"
   ]
  },
  {
   "cell_type": "code",
   "execution_count": 45,
   "metadata": {},
   "outputs": [
    {
     "name": "stdout",
     "output_type": "stream",
     "text": [
      "Arquivo salvo em C:\\Users\\guilh\\Desktop\\medallion\\data\\silver\\\\\n"
     ]
    }
   ],
   "source": [
    "df.to_csv(f'{silver_path}netflix_titles_nov_2019_silver.csv', index=False)\n",
    "\n",
    "print(f'Arquivo salvo em {silver_path}')"
   ]
  }
 ],
 "metadata": {
  "kernelspec": {
   "display_name": "Python 3",
   "language": "python",
   "name": "python3"
  },
  "language_info": {
   "codemirror_mode": {
    "name": "ipython",
    "version": 3
   },
   "file_extension": ".py",
   "mimetype": "text/x-python",
   "name": "python",
   "nbconvert_exporter": "python",
   "pygments_lexer": "ipython3",
   "version": "3.13.3"
  }
 },
 "nbformat": 4,
 "nbformat_minor": 2
}
